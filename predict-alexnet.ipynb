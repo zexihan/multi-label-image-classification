{
 "cells": [
  {
   "cell_type": "markdown",
   "metadata": {},
   "source": [
    "# Predict - Alexnet"
   ]
  },
  {
   "cell_type": "code",
   "execution_count": 1,
   "metadata": {},
   "outputs": [],
   "source": [
    "import gc\n",
    "import numpy as np\n",
    "import pandas as pd\n",
    "import tensorflow as tf\n",
    "import cv2\n",
    "import matplotlib.pyplot as plt\n",
    "from utilities import load_images, get_multi_hot_labels\n",
    "from alexnet_model import alexnet_model_fn\n",
    "tf.logging.set_verbosity(tf.logging.INFO)"
   ]
  },
  {
   "cell_type": "code",
   "execution_count": 2,
   "metadata": {},
   "outputs": [],
   "source": [
    "# Load all test images and labels\n",
    "test_df = pd.read_csv('data/test.csv')\n",
    "\n",
    "test_path_list = test_df['imagePath']"
   ]
  },
  {
   "cell_type": "code",
   "execution_count": 3,
   "metadata": {},
   "outputs": [],
   "source": [
    "def predict(test_data):\n",
    "    multilabel_classifier = tf.estimator.Estimator(\n",
    "            model_fn=alexnet_model_fn, model_dir=\"model/multilabel_alexnet_model\")\n",
    "    test_input_fn = tf.estimator.inputs.numpy_input_fn(\n",
    "            x={\"x\": test_data},\n",
    "            shuffle=False)\n",
    "    predictions = multilabel_classifier.predict(input_fn=test_input_fn)\n",
    "    y_predicted = np.array(list(p['classes'] for p in predictions))\n",
    "    label_id = []\n",
    "    image_id = list(range(1, y_predicted.shape[0]+1))\n",
    "    for i in range(y_predicted.shape[0]):\n",
    "        label_array = np.where(y_predicted[i]==1)[0]\n",
    "        label_array += 1\n",
    "        label_string = \"\"\n",
    "        for j in range(label_array.shape[0]):\n",
    "            label_string += \" \" + str(label_array[j])\n",
    "        label_string = label_string[1:]\n",
    "        label_id.append(label_string)\n",
    "    submission = pd.DataFrame({'image_id':image_id, 'label_id':label_id})\n",
    "    return submission"
   ]
  },
  {
   "cell_type": "code",
   "execution_count": 4,
   "metadata": {},
   "outputs": [
    {
     "name": "stdout",
     "output_type": "stream",
     "text": [
      "Loading images: 0\n",
      "Loading images: 1000\n",
      "Loading images: 2000\n",
      "Loading images: 3000\n",
      "Loading images: 4000\n",
      "Loading images: 5000\n",
      "Loading images: 6000\n",
      "Loading images: 7000\n",
      "Loading images: 8000\n",
      "Loading images: 9000\n",
      "Loading images: 10000\n",
      "Loading images: 11000\n",
      "Loading images: 12000\n",
      "Loading images: 13000\n",
      "Loading images: 14000\n",
      "Loading images: 15000\n",
      "Loading images: 16000\n",
      "Loading images: 17000\n",
      "Loading images: 18000\n",
      "Loading images: 19000\n",
      "INFO:tensorflow:Using default config.\n",
      "INFO:tensorflow:Using config: {'_model_dir': 'model/multilabel_alexnet_model', '_tf_random_seed': None, '_save_summary_steps': 100, '_save_checkpoints_steps': None, '_save_checkpoints_secs': 600, '_session_config': None, '_keep_checkpoint_max': 5, '_keep_checkpoint_every_n_hours': 10000, '_log_step_count_steps': 100, '_service': None, '_cluster_spec': <tensorflow.python.training.server_lib.ClusterSpec object at 0x000002371B53CAC8>, '_task_type': 'worker', '_task_id': 0, '_global_id_in_cluster': 0, '_master': '', '_evaluation_master': '', '_is_chief': True, '_num_ps_replicas': 0, '_num_worker_replicas': 1}\n",
      "INFO:tensorflow:Calling model_fn.\n",
      "INFO:tensorflow:Done calling model_fn.\n",
      "INFO:tensorflow:Graph was finalized.\n",
      "INFO:tensorflow:Restoring parameters from model/multilabel_alexnet_model\\model.ckpt-1073851\n",
      "INFO:tensorflow:Running local_init_op.\n",
      "INFO:tensorflow:Done running local_init_op.\n",
      "Loading images: 0\n",
      "Loading images: 1000\n",
      "Loading images: 2000\n",
      "Loading images: 3000\n",
      "Loading images: 4000\n",
      "Loading images: 5000\n",
      "Loading images: 6000\n",
      "Loading images: 7000\n",
      "Loading images: 8000\n",
      "Loading images: 9000\n",
      "Loading images: 10000\n",
      "Loading images: 11000\n",
      "Loading images: 12000\n",
      "Loading images: 13000\n",
      "Loading images: 14000\n",
      "Loading images: 15000\n",
      "Loading images: 16000\n",
      "Loading images: 17000\n",
      "Loading images: 18000\n",
      "Loading images: 19000\n",
      "INFO:tensorflow:Using default config.\n",
      "INFO:tensorflow:Using config: {'_model_dir': 'model/multilabel_alexnet_model', '_tf_random_seed': None, '_save_summary_steps': 100, '_save_checkpoints_steps': None, '_save_checkpoints_secs': 600, '_session_config': None, '_keep_checkpoint_max': 5, '_keep_checkpoint_every_n_hours': 10000, '_log_step_count_steps': 100, '_service': None, '_cluster_spec': <tensorflow.python.training.server_lib.ClusterSpec object at 0x000002371A976AC8>, '_task_type': 'worker', '_task_id': 0, '_global_id_in_cluster': 0, '_master': '', '_evaluation_master': '', '_is_chief': True, '_num_ps_replicas': 0, '_num_worker_replicas': 1}\n",
      "INFO:tensorflow:Calling model_fn.\n",
      "INFO:tensorflow:Done calling model_fn.\n",
      "INFO:tensorflow:Graph was finalized.\n",
      "INFO:tensorflow:Restoring parameters from model/multilabel_alexnet_model\\model.ckpt-1073851\n",
      "INFO:tensorflow:Running local_init_op.\n",
      "INFO:tensorflow:Done running local_init_op.\n"
     ]
    }
   ],
   "source": [
    "test_data = load_images(test_path_list[:20000])\n",
    "submission_1 = predict(test_data)\n",
    "\n",
    "del test_data\n",
    "gc.collect()\n",
    "\n",
    "test_data = load_images(test_path_list[20000:])\n",
    "submission_2 = predict(test_data)\n",
    "\n",
    "submission = submission_1.append(submission_2, ignore_index=True)"
   ]
  },
  {
   "cell_type": "code",
   "execution_count": 5,
   "metadata": {},
   "outputs": [],
   "source": [
    "submission.to_csv('submission_0.499_localtest.csv', index = False)"
   ]
  },
  {
   "cell_type": "code",
   "execution_count": null,
   "metadata": {},
   "outputs": [],
   "source": []
  }
 ],
 "metadata": {
  "kernelspec": {
   "display_name": "Python 3",
   "language": "python",
   "name": "python3"
  },
  "language_info": {
   "codemirror_mode": {
    "name": "ipython",
    "version": 3
   },
   "file_extension": ".py",
   "mimetype": "text/x-python",
   "name": "python",
   "nbconvert_exporter": "python",
   "pygments_lexer": "ipython3",
   "version": "3.6.4"
  }
 },
 "nbformat": 4,
 "nbformat_minor": 2
}
