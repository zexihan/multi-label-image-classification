{
 "cells": [
  {
   "cell_type": "markdown",
   "metadata": {},
   "source": [
    "# Predict - Alexnet"
   ]
  },
  {
   "cell_type": "code",
   "execution_count": null,
   "metadata": {},
   "outputs": [],
   "source": [
    "import gc, glob, sys, json, datetime\n",
    "import numpy as np\n",
    "import pandas as pd\n",
    "import tensorflow as tf\n",
    "import cv2\n",
    "import matplotlib.pyplot as plt\n",
    "from utilities import load_images, get_multi_hot_labels\n",
    "from alexnet_model import alexnet_model_fn\n",
    "tf.logging.set_verbosity(tf.logging.INFO)"
   ]
  },
  {
   "cell_type": "code",
   "execution_count": null,
   "metadata": {},
   "outputs": [],
   "source": [
    "# Load all test images and labels\n",
    "test_df = pd.read_csv('data/test.csv')\n",
    "\n",
    "test_path_list = test_df['imagePath']\n",
    "\n",
    "test_data = load_images(test_path_list)"
   ]
  },
  {
   "cell_type": "code",
   "execution_count": null,
   "metadata": {},
   "outputs": [],
   "source": [
    "multilabel_classifier = tf.estimator.Estimator(\n",
    "            model_fn=alexnet_model_fn, model_dir=\"model/multilabel_alexnet_model\")\n",
    "test_input_fn = tf.estimator.inputs.numpy_input_fn(\n",
    "            x={\"x\": test_data},\n",
    "            shuffle=False)\n",
    "predictions = multilabel_classifier.predict(input_fn=test_input_fn)\n",
    "y_predicted = np.array(list(p['classes'] for p in predictions))"
   ]
  },
  {
   "cell_type": "code",
   "execution_count": null,
   "metadata": {},
   "outputs": [],
   "source": [
    "label_id = []\n",
    "image_id = list(range(1, y_predicted.shape[0]+1))\n",
    "for i in range(y_predicted.shape[0]):\n",
    "    label_array = np.where(y_predicted[i]==1)[0]\n",
    "    label_array += 1\n",
    "    label_string = \"\"\n",
    "    for j in range(label_array.shape[0]):\n",
    "        label_string += \" \" + str(label_array[j])\n",
    "    label_string = label_string[1:]\n",
    "    label_id.append(label_string)"
   ]
  },
  {
   "cell_type": "code",
   "execution_count": null,
   "metadata": {},
   "outputs": [],
   "source": [
    "submission = pd.DataFrame({'image_id':image_id, 'label_id':label_id})"
   ]
  },
  {
   "cell_type": "code",
   "execution_count": null,
   "metadata": {},
   "outputs": [],
   "source": [
    "submission.to_csv('submission.csv', index = False)"
   ]
  },
  {
   "cell_type": "code",
   "execution_count": null,
   "metadata": {},
   "outputs": [],
   "source": []
  }
 ],
 "metadata": {
  "kernelspec": {
   "display_name": "Python 3",
   "language": "python",
   "name": "python3"
  },
  "language_info": {
   "codemirror_mode": {
    "name": "ipython",
    "version": 3
   },
   "file_extension": ".py",
   "mimetype": "text/x-python",
   "name": "python",
   "nbconvert_exporter": "python",
   "pygments_lexer": "ipython3",
   "version": "3.6.4"
  }
 },
 "nbformat": 4,
 "nbformat_minor": 2
}
