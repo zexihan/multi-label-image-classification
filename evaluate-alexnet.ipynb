{
 "cells": [
  {
   "cell_type": "markdown",
   "metadata": {},
   "source": [
    "# Evaluate - Alexnet"
   ]
  },
  {
   "cell_type": "code",
   "execution_count": 1,
   "metadata": {},
   "outputs": [],
   "source": [
    "import gc, glob, sys, json, datetime\n",
    "import numpy as np\n",
    "import pandas as pd\n",
    "import tensorflow as tf\n",
    "import cv2\n",
    "import matplotlib.pyplot as plt\n",
    "from utilities import load_images, get_multi_hot_labels\n",
    "from alexnet_model import alexnet_model_fn\n",
    "tf.logging.set_verbosity(tf.logging.INFO)"
   ]
  },
  {
   "cell_type": "code",
   "execution_count": 6,
   "metadata": {},
   "outputs": [
    {
     "name": "stdout",
     "output_type": "stream",
     "text": [
      "Loading images: 0\n",
      "Loading images: 1000\n",
      "Loading images: 2000\n",
      "Loading images: 3000\n",
      "Loading images: 4000\n",
      "Loading images: 5000\n",
      "Loading images: 6000\n",
      "Loading images: 7000\n",
      "Loading images: 8000\n",
      "Loading images: 9000\n"
     ]
    }
   ],
   "source": [
    "# Load all validation images and labels\n",
    "validation_df = pd.read_csv('data/validation.csv')\n",
    "\n",
    "eval_path_list = validation_df['imagePath']\n",
    "\n",
    "eval_data = load_images(eval_path_list)\n",
    "eval_labels = get_multi_hot_labels(validation_df, list(range(validation_df.shape[0])))"
   ]
  },
  {
   "cell_type": "code",
   "execution_count": 11,
   "metadata": {},
   "outputs": [
    {
     "name": "stdout",
     "output_type": "stream",
     "text": [
      "INFO:tensorflow:Using default config.\n",
      "INFO:tensorflow:Using config: {'_model_dir': 'model/multilabel_alexnet_model', '_tf_random_seed': None, '_save_summary_steps': 100, '_save_checkpoints_steps': None, '_save_checkpoints_secs': 600, '_session_config': None, '_keep_checkpoint_max': 5, '_keep_checkpoint_every_n_hours': 10000, '_log_step_count_steps': 100, '_service': None, '_cluster_spec': <tensorflow.python.training.server_lib.ClusterSpec object at 0x00000208A237D470>, '_task_type': 'worker', '_task_id': 0, '_global_id_in_cluster': 0, '_master': '', '_evaluation_master': '', '_is_chief': True, '_num_ps_replicas': 0, '_num_worker_replicas': 1}\n",
      "INFO:tensorflow:Calling model_fn.\n",
      "INFO:tensorflow:Done calling model_fn.\n",
      "INFO:tensorflow:Starting evaluation at 2018-04-12-22:45:38\n",
      "INFO:tensorflow:Graph was finalized.\n",
      "INFO:tensorflow:Restoring parameters from model/multilabel_alexnet_model\\model.ckpt-1000001\n",
      "INFO:tensorflow:Running local_init_op.\n",
      "INFO:tensorflow:Done running local_init_op.\n",
      "INFO:tensorflow:Finished evaluation at 2018-04-12-22:45:47\n",
      "INFO:tensorflow:Saving dict for global step 1000001: global_step = 1000001, loss = 0.10000037, meanfscore = 0.46339387, precision_micro = 0.4543694, recall_micro = 0.47278407\n",
      "{'loss': 0.10000037, 'meanfscore': 0.46339387, 'precision_micro': 0.4543694, 'recall_micro': 0.47278407, 'global_step': 1000001}\n"
     ]
    }
   ],
   "source": [
    "# Evaluate\n",
    "multilabel_classifier = tf.estimator.Estimator(\n",
    "            model_fn=alexnet_model_fn, model_dir=\"model/multilabel_alexnet_model\")\n",
    "eval_input_fn = tf.estimator.inputs.numpy_input_fn(\n",
    "            x={\"x\": eval_data},\n",
    "            y=eval_labels,\n",
    "            shuffle=False)\n",
    "eval_results = multilabel_classifier.evaluate(input_fn=eval_input_fn)\n",
    "print(eval_results)"
   ]
  },
  {
   "cell_type": "code",
   "execution_count": null,
   "metadata": {},
   "outputs": [],
   "source": []
  }
 ],
 "metadata": {
  "kernelspec": {
   "display_name": "Python 3",
   "language": "python",
   "name": "python3"
  },
  "language_info": {
   "codemirror_mode": {
    "name": "ipython",
    "version": 3
   },
   "file_extension": ".py",
   "mimetype": "text/x-python",
   "name": "python",
   "nbconvert_exporter": "python",
   "pygments_lexer": "ipython3",
   "version": "3.6.4"
  }
 },
 "nbformat": 4,
 "nbformat_minor": 2
}
