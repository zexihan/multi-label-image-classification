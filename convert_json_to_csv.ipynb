{
 "cells": [
  {
   "cell_type": "markdown",
   "metadata": {},
   "source": [
    "# Convert JSON to CSV"
   ]
  },
  {
   "cell_type": "markdown",
   "metadata": {},
   "source": [
    "- Train: imageId, labelId, imagePath\n",
    "- Validation: imageId, labelId, imagePath\n",
    "- Test: imageId, imagePath"
   ]
  },
  {
   "cell_type": "code",
   "execution_count": 1,
   "metadata": {},
   "outputs": [],
   "source": [
    "import json, glob\n",
    "import numpy as np\n",
    "import pandas as pd"
   ]
  },
  {
   "cell_type": "markdown",
   "metadata": {},
   "source": [
    "## Train"
   ]
  },
  {
   "cell_type": "code",
   "execution_count": 2,
   "metadata": {},
   "outputs": [],
   "source": [
    "train_json = json.load(open('data/train.json'))\n",
    "missing_json = json.load(open('data/missing.json'))"
   ]
  },
  {
   "cell_type": "code",
   "execution_count": 3,
   "metadata": {},
   "outputs": [
    {
     "name": "stdout",
     "output_type": "stream",
     "text": [
      "1014544   12753\n"
     ]
    }
   ],
   "source": [
    "num_images = len(train_json['images'])\n",
    "num_missing = len(missing_json['images'])\n",
    "print(num_images, ' ', num_missing)"
   ]
  },
  {
   "cell_type": "code",
   "execution_count": 4,
   "metadata": {},
   "outputs": [],
   "source": [
    "# Get image ids and labels\n",
    "image_id = []\n",
    "label_id = []\n",
    "for i in range(num_images):\n",
    "    image_id.append(int(train_json['annotations'][i]['imageId']))\n",
    "    label_list = train_json['annotations'][i]['labelId']\n",
    "    label_str = ''\n",
    "    for j in range(len(label_list)):\n",
    "        label_str += ' ' + label_list[j]\n",
    "    label_str = label_str[1:]\n",
    "    label_id.append(label_str)"
   ]
  },
  {
   "cell_type": "code",
   "execution_count": 5,
   "metadata": {},
   "outputs": [],
   "source": [
    "# Get train image paths\n",
    "train_image_folders = ['train_images_0','train_images_1','train_images_2','train_images_3','train_images_4',\n",
    "                     'train_images_5','train_images_6','train_images_7','train_images_8','train_images_9','train_images_10']\n",
    "image_path = []\n",
    "\n",
    "def get_index(path):\n",
    "    return int(path.split('\\\\')[-1].split('.')[0])\n",
    "\n",
    "for folder_nm in train_image_folders:\n",
    "    path_format = 'data_224/' + folder_nm + '/*.jpeg'\n",
    "    pathSorted = sorted(glob.glob(path_format), key=get_index)\n",
    "    image_path.append(pathSorted)\n",
    "\n",
    "image_path = [item for sublist in image_path for item in sublist]"
   ]
  },
  {
   "cell_type": "code",
   "execution_count": 6,
   "metadata": {},
   "outputs": [],
   "source": [
    "train_csv = pd.DataFrame({'imageId': image_id, 'labelId': label_id, 'imagePath': image_path})"
   ]
  },
  {
   "cell_type": "code",
   "execution_count": 7,
   "metadata": {},
   "outputs": [],
   "source": [
    "train_csv.to_csv('data\\\\train_with_missing.csv', index=False)"
   ]
  },
  {
   "cell_type": "code",
   "execution_count": 8,
   "metadata": {},
   "outputs": [],
   "source": [
    "# Get missing imageIds\n",
    "missing_id = [int(missing_json['images'][i]['imageId']) for i in range(num_missing)]"
   ]
  },
  {
   "cell_type": "code",
   "execution_count": 9,
   "metadata": {},
   "outputs": [],
   "source": [
    "train_without_missing = train_csv[~train_csv['imageId'].isin(missing_id)]"
   ]
  },
  {
   "cell_type": "code",
   "execution_count": 10,
   "metadata": {},
   "outputs": [
    {
     "data": {
      "text/plain": [
       "(1001791, 3)"
      ]
     },
     "execution_count": 10,
     "metadata": {},
     "output_type": "execute_result"
    }
   ],
   "source": [
    "train_without_missing.shape"
   ]
  },
  {
   "cell_type": "code",
   "execution_count": 11,
   "metadata": {},
   "outputs": [],
   "source": [
    "train_without_missing.to_csv('data\\\\train_without_missing.csv', index=False)"
   ]
  },
  {
   "cell_type": "markdown",
   "metadata": {},
   "source": [
    "# Validation"
   ]
  },
  {
   "cell_type": "code",
   "execution_count": 12,
   "metadata": {},
   "outputs": [],
   "source": [
    "validation_json = json.load(open('data/validation.json'))"
   ]
  },
  {
   "cell_type": "code",
   "execution_count": 13,
   "metadata": {},
   "outputs": [
    {
     "name": "stdout",
     "output_type": "stream",
     "text": [
      "9897\n"
     ]
    }
   ],
   "source": [
    "num_images = len(validation_json['images'])\n",
    "print(num_images)"
   ]
  },
  {
   "cell_type": "code",
   "execution_count": 14,
   "metadata": {},
   "outputs": [],
   "source": [
    "# Get image ids and labels\n",
    "image_id = []\n",
    "label_id = []\n",
    "for i in range(num_images):\n",
    "    image_id.append(int(validation_json['annotations'][i]['imageId']))\n",
    "    label_list = validation_json['annotations'][i]['labelId']\n",
    "    label_str = ''\n",
    "    for j in range(len(label_list)):\n",
    "        label_str += ' ' + label_list[j]\n",
    "    label_str = label_str[1:]\n",
    "    label_id.append(label_str)"
   ]
  },
  {
   "cell_type": "code",
   "execution_count": 15,
   "metadata": {},
   "outputs": [],
   "source": [
    "# Get validation image paths\n",
    "validation_path_format = 'data_224\\\\validation_images\\\\*.jpeg'\n",
    "image_path = sorted(glob.glob(validation_path_format), key=get_index)"
   ]
  },
  {
   "cell_type": "code",
   "execution_count": 16,
   "metadata": {},
   "outputs": [],
   "source": [
    "validation_csv = pd.DataFrame({'imageId': image_id, 'labelId': label_id, 'imagePath': image_path})"
   ]
  },
  {
   "cell_type": "code",
   "execution_count": 17,
   "metadata": {},
   "outputs": [
    {
     "data": {
      "text/html": [
       "<div>\n",
       "<style scoped>\n",
       "    .dataframe tbody tr th:only-of-type {\n",
       "        vertical-align: middle;\n",
       "    }\n",
       "\n",
       "    .dataframe tbody tr th {\n",
       "        vertical-align: top;\n",
       "    }\n",
       "\n",
       "    .dataframe thead th {\n",
       "        text-align: right;\n",
       "    }\n",
       "</style>\n",
       "<table border=\"1\" class=\"dataframe\">\n",
       "  <thead>\n",
       "    <tr style=\"text-align: right;\">\n",
       "      <th></th>\n",
       "      <th>imageId</th>\n",
       "      <th>imagePath</th>\n",
       "      <th>labelId</th>\n",
       "    </tr>\n",
       "  </thead>\n",
       "  <tbody>\n",
       "    <tr>\n",
       "      <th>0</th>\n",
       "      <td>1</td>\n",
       "      <td>data_224\\validation_images\\1.jpeg</td>\n",
       "      <td>62 17 66 214 105 137 85</td>\n",
       "    </tr>\n",
       "    <tr>\n",
       "      <th>1</th>\n",
       "      <td>2</td>\n",
       "      <td>data_224\\validation_images\\2.jpeg</td>\n",
       "      <td>95 17 66 214 164 137 20 204 184</td>\n",
       "    </tr>\n",
       "    <tr>\n",
       "      <th>2</th>\n",
       "      <td>3</td>\n",
       "      <td>data_224\\validation_images\\3.jpeg</td>\n",
       "      <td>122 19 66 186 180 44 154 20</td>\n",
       "    </tr>\n",
       "    <tr>\n",
       "      <th>3</th>\n",
       "      <td>4</td>\n",
       "      <td>data_224\\validation_images\\4.jpeg</td>\n",
       "      <td>190 222 66 153 164 226 53 184</td>\n",
       "    </tr>\n",
       "    <tr>\n",
       "      <th>4</th>\n",
       "      <td>5</td>\n",
       "      <td>data_224\\validation_images\\5.jpeg</td>\n",
       "      <td>62 66 153 171 111 137 70 204 184</td>\n",
       "    </tr>\n",
       "  </tbody>\n",
       "</table>\n",
       "</div>"
      ],
      "text/plain": [
       "   imageId                          imagePath  \\\n",
       "0        1  data_224\\validation_images\\1.jpeg   \n",
       "1        2  data_224\\validation_images\\2.jpeg   \n",
       "2        3  data_224\\validation_images\\3.jpeg   \n",
       "3        4  data_224\\validation_images\\4.jpeg   \n",
       "4        5  data_224\\validation_images\\5.jpeg   \n",
       "\n",
       "                            labelId  \n",
       "0           62 17 66 214 105 137 85  \n",
       "1   95 17 66 214 164 137 20 204 184  \n",
       "2       122 19 66 186 180 44 154 20  \n",
       "3     190 222 66 153 164 226 53 184  \n",
       "4  62 66 153 171 111 137 70 204 184  "
      ]
     },
     "execution_count": 17,
     "metadata": {},
     "output_type": "execute_result"
    }
   ],
   "source": [
    "validation_csv.head()"
   ]
  },
  {
   "cell_type": "code",
   "execution_count": 18,
   "metadata": {},
   "outputs": [],
   "source": [
    "validation_csv.to_csv('data\\\\validation.csv', index=False)"
   ]
  },
  {
   "cell_type": "markdown",
   "metadata": {},
   "source": [
    "# Test"
   ]
  },
  {
   "cell_type": "code",
   "execution_count": 19,
   "metadata": {},
   "outputs": [],
   "source": [
    "test_json = json.load(open('data/test.json'))"
   ]
  },
  {
   "cell_type": "code",
   "execution_count": 20,
   "metadata": {},
   "outputs": [
    {
     "name": "stdout",
     "output_type": "stream",
     "text": [
      "39706\n"
     ]
    }
   ],
   "source": [
    "num_images = len(test_json['images'])\n",
    "print(num_images)"
   ]
  },
  {
   "cell_type": "code",
   "execution_count": 21,
   "metadata": {},
   "outputs": [],
   "source": [
    "# Get image ids\n",
    "image_id = [int(test_json['images'][i]['imageId']) for i in range(num_images)]"
   ]
  },
  {
   "cell_type": "code",
   "execution_count": 22,
   "metadata": {},
   "outputs": [],
   "source": [
    "# Get test image paths\n",
    "test_path_format = 'data_224\\\\test_images\\\\*.jpeg'\n",
    "image_path = sorted(glob.glob(test_path_format), key=get_index)"
   ]
  },
  {
   "cell_type": "code",
   "execution_count": 23,
   "metadata": {},
   "outputs": [],
   "source": [
    "test_csv = pd.DataFrame({'imageId': image_id, 'imagePath': image_path})"
   ]
  },
  {
   "cell_type": "code",
   "execution_count": 24,
   "metadata": {},
   "outputs": [
    {
     "data": {
      "text/html": [
       "<div>\n",
       "<style scoped>\n",
       "    .dataframe tbody tr th:only-of-type {\n",
       "        vertical-align: middle;\n",
       "    }\n",
       "\n",
       "    .dataframe tbody tr th {\n",
       "        vertical-align: top;\n",
       "    }\n",
       "\n",
       "    .dataframe thead th {\n",
       "        text-align: right;\n",
       "    }\n",
       "</style>\n",
       "<table border=\"1\" class=\"dataframe\">\n",
       "  <thead>\n",
       "    <tr style=\"text-align: right;\">\n",
       "      <th></th>\n",
       "      <th>imageId</th>\n",
       "      <th>imagePath</th>\n",
       "    </tr>\n",
       "  </thead>\n",
       "  <tbody>\n",
       "    <tr>\n",
       "      <th>0</th>\n",
       "      <td>1</td>\n",
       "      <td>data_224\\test_images\\1.jpeg</td>\n",
       "    </tr>\n",
       "    <tr>\n",
       "      <th>1</th>\n",
       "      <td>2</td>\n",
       "      <td>data_224\\test_images\\2.jpeg</td>\n",
       "    </tr>\n",
       "    <tr>\n",
       "      <th>2</th>\n",
       "      <td>3</td>\n",
       "      <td>data_224\\test_images\\3.jpeg</td>\n",
       "    </tr>\n",
       "    <tr>\n",
       "      <th>3</th>\n",
       "      <td>4</td>\n",
       "      <td>data_224\\test_images\\4.jpeg</td>\n",
       "    </tr>\n",
       "    <tr>\n",
       "      <th>4</th>\n",
       "      <td>5</td>\n",
       "      <td>data_224\\test_images\\5.jpeg</td>\n",
       "    </tr>\n",
       "  </tbody>\n",
       "</table>\n",
       "</div>"
      ],
      "text/plain": [
       "   imageId                    imagePath\n",
       "0        1  data_224\\test_images\\1.jpeg\n",
       "1        2  data_224\\test_images\\2.jpeg\n",
       "2        3  data_224\\test_images\\3.jpeg\n",
       "3        4  data_224\\test_images\\4.jpeg\n",
       "4        5  data_224\\test_images\\5.jpeg"
      ]
     },
     "execution_count": 24,
     "metadata": {},
     "output_type": "execute_result"
    }
   ],
   "source": [
    "test_csv.head()"
   ]
  },
  {
   "cell_type": "code",
   "execution_count": 25,
   "metadata": {},
   "outputs": [],
   "source": [
    "test_csv.to_csv('data\\\\test.csv', index=False)"
   ]
  },
  {
   "cell_type": "code",
   "execution_count": null,
   "metadata": {},
   "outputs": [],
   "source": []
  }
 ],
 "metadata": {
  "kernelspec": {
   "display_name": "Python 3",
   "language": "python",
   "name": "python3"
  },
  "language_info": {
   "codemirror_mode": {
    "name": "ipython",
    "version": 3
   },
   "file_extension": ".py",
   "mimetype": "text/x-python",
   "name": "python",
   "nbconvert_exporter": "python",
   "pygments_lexer": "ipython3",
   "version": "3.6.4"
  }
 },
 "nbformat": 4,
 "nbformat_minor": 2
}
